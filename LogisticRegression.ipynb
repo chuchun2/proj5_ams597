{
 "cells": [
  {
   "cell_type": "markdown",
   "metadata": {},
   "source": [
    "# Baseline algorithm: Logistic Regression"
   ]
  },
  {
   "cell_type": "code",
   "execution_count": 1,
   "metadata": {},
   "outputs": [],
   "source": [
    "import numpy as np\n",
    "import pandas as pd\n",
    "from sklearn.model_selection import train_test_split\n",
    "from sklearn.linear_model import LogisticRegression"
   ]
  },
  {
   "cell_type": "markdown",
   "metadata": {},
   "source": [
    "## Data pre-processing"
   ]
  },
  {
   "cell_type": "code",
   "execution_count": 2,
   "metadata": {},
   "outputs": [
    {
     "name": "stderr",
     "output_type": "stream",
     "text": [
      "/Users/davidlafferty/anaconda3/lib/python3.7/site-packages/IPython/core/interactiveshell.py:3063: DtypeWarning: Columns (10,17) have mixed types.Specify dtype option on import or set low_memory=False.\n",
      "  interactivity=interactivity, compiler=compiler, result=result)\n"
     ]
    }
   ],
   "source": [
    "# Read data\n",
    "data = pd.read_csv('./data_clean.csv', index_col='date_time', parse_dates=True)"
   ]
  },
  {
   "cell_type": "code",
   "execution_count": 3,
   "metadata": {},
   "outputs": [
    {
     "data": {
      "text/plain": [
       "Index(['station_id', 'latitude', 'longitude', 'elevation', 'date_time.1',\n",
       "       'wind_direction', 'wind_speed', 'current_wx1', 'current_wx2',\n",
       "       'current_wx3', 'low_cloud_type', 'low_cloud_level', 'medium_cloud_type',\n",
       "       'medium_cloud_level', 'high_cloud_type', 'high_cloud_level',\n",
       "       'highest_cloud_type', 'highest_cloud_level', 'cloud_coverage',\n",
       "       'air_temperature', 'dew_point_temperature', 'altimeter',\n",
       "       'present_weather', 'past_weather', 'past_weather2',\n",
       "       'air_pressure_at_sea_level', 'eastward_wind', 'northward_wind'],\n",
       "      dtype='object')"
      ]
     },
     "execution_count": 3,
     "metadata": {},
     "output_type": "execute_result"
    }
   ],
   "source": [
    "data.columns"
   ]
  },
  {
   "cell_type": "code",
   "execution_count": 4,
   "metadata": {},
   "outputs": [],
   "source": [
    "# Drop NaNs or constants\n",
    "data.drop(columns = ['date_time.1', 'station_id', 'latitude', 'longitude', 'elevation', 'current_wx2', 'current_wx3', 'air_pressure_at_sea_level'], inplace = True)"
   ]
  },
  {
   "cell_type": "code",
   "execution_count": 5,
   "metadata": {},
   "outputs": [
    {
     "data": {
      "text/plain": [
       "array(['BR', 'HZ', '-RA', '-FZRA', '-SN', 'SN', 'FG', 'RA', 'FZFG', '+SN',\n",
       "       '+RA', '+TSRA', 'TSRA', '-TSRA', 'FZRA', 'BL', 'TS', '-SNRA',\n",
       "       'VCTS', '+TS', '-TS', 'MIFG', '-SH', 'FZDZ'], dtype=object)"
      ]
     },
     "execution_count": 5,
     "metadata": {},
     "output_type": "execute_result"
    }
   ],
   "source": [
    "# Unique weather symbols\n",
    "data['current_wx1'].unique()"
   ]
  },
  {
   "cell_type": "code",
   "execution_count": 6,
   "metadata": {},
   "outputs": [
    {
     "data": {
      "text/plain": [
       "array([10,  5, 61, 66, 71, 73, 45, 63, 49, 75, 65, 97, 95, 67,  0, 17, 68,\n",
       "       13, 12, 80, 57])"
      ]
     },
     "execution_count": 6,
     "metadata": {},
     "output_type": "execute_result"
    }
   ],
   "source": [
    "# Unique weather codes\n",
    "data['present_weather'].unique()"
   ]
  },
  {
   "cell_type": "code",
   "execution_count": 7,
   "metadata": {},
   "outputs": [],
   "source": [
    "# Choose classifications: 0 for liquid precipitation (rain, feezing rain, thunderstorm + rain, showers, freezing drizzle); 1 for solid (snow)\n",
    "# METAR info here: https://en.wikipedia.org/wiki/METAR\n",
    "wx_to_prcp = {'RA' : 0, '-RA' : 0, '+RA' : 0, 'FZRA' : 0, '-FZRA' : 0, '+FZRA' : 0, 'SN' : 1, '-SN' : 1, '+SN' : 1, 'TSRA' : 0, '-TSRA' : 0, '+TSRA' : 0, 'SH' : 0, '+SH' : 0, '-SH' : 0, 'FZDZ' : 0, '-FZDZ' : 0, '+FZDZ' : 0}"
   ]
  },
  {
   "cell_type": "code",
   "execution_count": 8,
   "metadata": {},
   "outputs": [],
   "source": [
    "# Simple dictionary lookup to classify weather symbols\n",
    "def classify_prcp(wx_code):\n",
    "    try:\n",
    "        return wx_to_prcp[wx_code]\n",
    "    except:\n",
    "        return np.NaN    "
   ]
  },
  {
   "cell_type": "code",
   "execution_count": 9,
   "metadata": {},
   "outputs": [],
   "source": [
    "# Apply to data\n",
    "data['prcp_type'] = data['current_wx1'].apply(classify_prcp)"
   ]
  },
  {
   "cell_type": "code",
   "execution_count": 10,
   "metadata": {},
   "outputs": [],
   "source": [
    "# Filter for precipitating observations\n",
    "data = data.dropna(subset = ['prcp_type'])"
   ]
  },
  {
   "cell_type": "code",
   "execution_count": 11,
   "metadata": {},
   "outputs": [],
   "source": [
    "# One-hot encoding for dates\n",
    "data['month'] = data.index.month\n",
    "data['day'] = data.index.day\n",
    "data['hour'] = data.index.hour"
   ]
  },
  {
   "cell_type": "code",
   "execution_count": 12,
   "metadata": {},
   "outputs": [
    {
     "data": {
      "text/html": [
       "<div>\n",
       "<style scoped>\n",
       "    .dataframe tbody tr th:only-of-type {\n",
       "        vertical-align: middle;\n",
       "    }\n",
       "\n",
       "    .dataframe tbody tr th {\n",
       "        vertical-align: top;\n",
       "    }\n",
       "\n",
       "    .dataframe thead th {\n",
       "        text-align: right;\n",
       "    }\n",
       "</style>\n",
       "<table border=\"1\" class=\"dataframe\">\n",
       "  <thead>\n",
       "    <tr style=\"text-align: right;\">\n",
       "      <th></th>\n",
       "      <th>wind_direction</th>\n",
       "      <th>wind_speed</th>\n",
       "      <th>current_wx1</th>\n",
       "      <th>low_cloud_type</th>\n",
       "      <th>low_cloud_level</th>\n",
       "      <th>medium_cloud_type</th>\n",
       "      <th>medium_cloud_level</th>\n",
       "      <th>high_cloud_type</th>\n",
       "      <th>high_cloud_level</th>\n",
       "      <th>highest_cloud_type</th>\n",
       "      <th>...</th>\n",
       "      <th>altimeter</th>\n",
       "      <th>present_weather</th>\n",
       "      <th>past_weather</th>\n",
       "      <th>past_weather2</th>\n",
       "      <th>eastward_wind</th>\n",
       "      <th>northward_wind</th>\n",
       "      <th>prcp_type</th>\n",
       "      <th>month</th>\n",
       "      <th>day</th>\n",
       "      <th>hour</th>\n",
       "    </tr>\n",
       "    <tr>\n",
       "      <th>date_time</th>\n",
       "      <th></th>\n",
       "      <th></th>\n",
       "      <th></th>\n",
       "      <th></th>\n",
       "      <th></th>\n",
       "      <th></th>\n",
       "      <th></th>\n",
       "      <th></th>\n",
       "      <th></th>\n",
       "      <th></th>\n",
       "      <th></th>\n",
       "      <th></th>\n",
       "      <th></th>\n",
       "      <th></th>\n",
       "      <th></th>\n",
       "      <th></th>\n",
       "      <th></th>\n",
       "      <th></th>\n",
       "      <th></th>\n",
       "      <th></th>\n",
       "      <th></th>\n",
       "    </tr>\n",
       "  </thead>\n",
       "  <tbody>\n",
       "    <tr>\n",
       "      <th>2000-01-02 01:25:00</th>\n",
       "      <td>90.0</td>\n",
       "      <td>12.0</td>\n",
       "      <td>-RA</td>\n",
       "      <td>SCT</td>\n",
       "      <td>7000.0</td>\n",
       "      <td>OVC</td>\n",
       "      <td>8500.0</td>\n",
       "      <td>NaN</td>\n",
       "      <td>NaN</td>\n",
       "      <td>NaN</td>\n",
       "      <td>...</td>\n",
       "      <td>29.79</td>\n",
       "      <td>61</td>\n",
       "      <td>0</td>\n",
       "      <td>0</td>\n",
       "      <td>-12.000000</td>\n",
       "      <td>-7.347881e-16</td>\n",
       "      <td>0.0</td>\n",
       "      <td>1</td>\n",
       "      <td>2</td>\n",
       "      <td>1</td>\n",
       "    </tr>\n",
       "    <tr>\n",
       "      <th>2000-01-02 01:30:00</th>\n",
       "      <td>90.0</td>\n",
       "      <td>13.0</td>\n",
       "      <td>-RA</td>\n",
       "      <td>OVC</td>\n",
       "      <td>7500.0</td>\n",
       "      <td>NaN</td>\n",
       "      <td>NaN</td>\n",
       "      <td>NaN</td>\n",
       "      <td>NaN</td>\n",
       "      <td>NaN</td>\n",
       "      <td>...</td>\n",
       "      <td>29.79</td>\n",
       "      <td>61</td>\n",
       "      <td>0</td>\n",
       "      <td>0</td>\n",
       "      <td>-13.000000</td>\n",
       "      <td>-7.960204e-16</td>\n",
       "      <td>0.0</td>\n",
       "      <td>1</td>\n",
       "      <td>2</td>\n",
       "      <td>1</td>\n",
       "    </tr>\n",
       "    <tr>\n",
       "      <th>2000-01-02 01:35:00</th>\n",
       "      <td>100.0</td>\n",
       "      <td>10.0</td>\n",
       "      <td>-RA</td>\n",
       "      <td>OVC</td>\n",
       "      <td>8000.0</td>\n",
       "      <td>NaN</td>\n",
       "      <td>NaN</td>\n",
       "      <td>NaN</td>\n",
       "      <td>NaN</td>\n",
       "      <td>NaN</td>\n",
       "      <td>...</td>\n",
       "      <td>29.80</td>\n",
       "      <td>61</td>\n",
       "      <td>0</td>\n",
       "      <td>0</td>\n",
       "      <td>-9.848078</td>\n",
       "      <td>1.736482e+00</td>\n",
       "      <td>0.0</td>\n",
       "      <td>1</td>\n",
       "      <td>2</td>\n",
       "      <td>1</td>\n",
       "    </tr>\n",
       "    <tr>\n",
       "      <th>2000-01-02 04:10:00</th>\n",
       "      <td>80.0</td>\n",
       "      <td>11.0</td>\n",
       "      <td>-RA</td>\n",
       "      <td>FEW</td>\n",
       "      <td>6000.0</td>\n",
       "      <td>OVC</td>\n",
       "      <td>8500.0</td>\n",
       "      <td>NaN</td>\n",
       "      <td>NaN</td>\n",
       "      <td>NaN</td>\n",
       "      <td>...</td>\n",
       "      <td>29.73</td>\n",
       "      <td>61</td>\n",
       "      <td>0</td>\n",
       "      <td>0</td>\n",
       "      <td>-10.832885</td>\n",
       "      <td>-1.910130e+00</td>\n",
       "      <td>0.0</td>\n",
       "      <td>1</td>\n",
       "      <td>2</td>\n",
       "      <td>4</td>\n",
       "    </tr>\n",
       "    <tr>\n",
       "      <th>2000-01-02 04:15:00</th>\n",
       "      <td>90.0</td>\n",
       "      <td>14.0</td>\n",
       "      <td>-RA</td>\n",
       "      <td>FEW</td>\n",
       "      <td>6000.0</td>\n",
       "      <td>OVC</td>\n",
       "      <td>8000.0</td>\n",
       "      <td>NaN</td>\n",
       "      <td>NaN</td>\n",
       "      <td>NaN</td>\n",
       "      <td>...</td>\n",
       "      <td>29.73</td>\n",
       "      <td>61</td>\n",
       "      <td>0</td>\n",
       "      <td>0</td>\n",
       "      <td>-14.000000</td>\n",
       "      <td>-8.572528e-16</td>\n",
       "      <td>0.0</td>\n",
       "      <td>1</td>\n",
       "      <td>2</td>\n",
       "      <td>4</td>\n",
       "    </tr>\n",
       "  </tbody>\n",
       "</table>\n",
       "<p>5 rows × 24 columns</p>\n",
       "</div>"
      ],
      "text/plain": [
       "                     wind_direction  wind_speed current_wx1 low_cloud_type  \\\n",
       "date_time                                                                    \n",
       "2000-01-02 01:25:00            90.0        12.0         -RA            SCT   \n",
       "2000-01-02 01:30:00            90.0        13.0         -RA            OVC   \n",
       "2000-01-02 01:35:00           100.0        10.0         -RA            OVC   \n",
       "2000-01-02 04:10:00            80.0        11.0         -RA            FEW   \n",
       "2000-01-02 04:15:00            90.0        14.0         -RA            FEW   \n",
       "\n",
       "                     low_cloud_level medium_cloud_type  medium_cloud_level  \\\n",
       "date_time                                                                    \n",
       "2000-01-02 01:25:00           7000.0               OVC              8500.0   \n",
       "2000-01-02 01:30:00           7500.0               NaN                 NaN   \n",
       "2000-01-02 01:35:00           8000.0               NaN                 NaN   \n",
       "2000-01-02 04:10:00           6000.0               OVC              8500.0   \n",
       "2000-01-02 04:15:00           6000.0               OVC              8000.0   \n",
       "\n",
       "                    high_cloud_type  high_cloud_level highest_cloud_type  ...  \\\n",
       "date_time                                                                 ...   \n",
       "2000-01-02 01:25:00             NaN               NaN                NaN  ...   \n",
       "2000-01-02 01:30:00             NaN               NaN                NaN  ...   \n",
       "2000-01-02 01:35:00             NaN               NaN                NaN  ...   \n",
       "2000-01-02 04:10:00             NaN               NaN                NaN  ...   \n",
       "2000-01-02 04:15:00             NaN               NaN                NaN  ...   \n",
       "\n",
       "                     altimeter  present_weather  past_weather  past_weather2  \\\n",
       "date_time                                                                      \n",
       "2000-01-02 01:25:00      29.79               61             0              0   \n",
       "2000-01-02 01:30:00      29.79               61             0              0   \n",
       "2000-01-02 01:35:00      29.80               61             0              0   \n",
       "2000-01-02 04:10:00      29.73               61             0              0   \n",
       "2000-01-02 04:15:00      29.73               61             0              0   \n",
       "\n",
       "                     eastward_wind  northward_wind  prcp_type  month  day  \\\n",
       "date_time                                                                   \n",
       "2000-01-02 01:25:00     -12.000000   -7.347881e-16        0.0      1    2   \n",
       "2000-01-02 01:30:00     -13.000000   -7.960204e-16        0.0      1    2   \n",
       "2000-01-02 01:35:00      -9.848078    1.736482e+00        0.0      1    2   \n",
       "2000-01-02 04:10:00     -10.832885   -1.910130e+00        0.0      1    2   \n",
       "2000-01-02 04:15:00     -14.000000   -8.572528e-16        0.0      1    2   \n",
       "\n",
       "                     hour  \n",
       "date_time                  \n",
       "2000-01-02 01:25:00     1  \n",
       "2000-01-02 01:30:00     1  \n",
       "2000-01-02 01:35:00     1  \n",
       "2000-01-02 04:10:00     4  \n",
       "2000-01-02 04:15:00     4  \n",
       "\n",
       "[5 rows x 24 columns]"
      ]
     },
     "execution_count": 12,
     "metadata": {},
     "output_type": "execute_result"
    }
   ],
   "source": [
    "data.head()"
   ]
  },
  {
   "cell_type": "markdown",
   "metadata": {},
   "source": [
    "## Model"
   ]
  },
  {
   "cell_type": "code",
   "execution_count": 13,
   "metadata": {},
   "outputs": [],
   "source": [
    "# Choose features - this could be updated later\n",
    "data = data.filter(['wind_direction', 'wind_speed',\n",
    "                    'low_cloud_level', 'low_cloud_type', 'cloud_coverage', # Medium or high cloud data contains many many NaNs\n",
    "                    'air_temperature', 'dew_point_temperature', \n",
    "                    'altimeter', 'eastward_wind', 'northward_wind',\n",
    "                    'month', 'day', 'hour',\n",
    "                    'prcp_type']).dropna()"
   ]
  },
  {
   "cell_type": "code",
   "execution_count": 14,
   "metadata": {},
   "outputs": [],
   "source": [
    "# One-hot encoding for cloud type\n",
    "data = pd.get_dummies(data)"
   ]
  },
  {
   "cell_type": "code",
   "execution_count": 15,
   "metadata": {},
   "outputs": [],
   "source": [
    "# Separate labels\n",
    "labels = data['prcp_type'].to_numpy()\n",
    "features = data.drop(columns = ['prcp_type']).to_numpy()"
   ]
  },
  {
   "cell_type": "code",
   "execution_count": 16,
   "metadata": {},
   "outputs": [],
   "source": [
    "# Split the data into training and testing sets\n",
    "train_features, test_features, train_labels, test_labels = train_test_split(features, labels, test_size = 0.3, random_state = 42)"
   ]
  },
  {
   "cell_type": "code",
   "execution_count": 17,
   "metadata": {},
   "outputs": [
    {
     "name": "stdout",
     "output_type": "stream",
     "text": [
      "Training Features Shape: (78145, 17)\n",
      "Training Labels Shape: (78145,)\n",
      "Testing Features Shape: (33491, 17)\n",
      "Testing Labels Shape: (33491,)\n"
     ]
    }
   ],
   "source": [
    "print('Training Features Shape:', train_features.shape)\n",
    "print('Training Labels Shape:', train_labels.shape)\n",
    "print('Testing Features Shape:', test_features.shape)\n",
    "print('Testing Labels Shape:', test_labels.shape)"
   ]
  },
  {
   "cell_type": "code",
   "execution_count": 18,
   "metadata": {},
   "outputs": [
    {
     "data": {
      "text/plain": [
       "LogisticRegression(C=1.0, class_weight=None, dual=False, fit_intercept=True,\n",
       "                   intercept_scaling=1, l1_ratio=None, max_iter=100000000000.0,\n",
       "                   multi_class='auto', n_jobs=None, penalty='l2',\n",
       "                   random_state=42, solver='lbfgs', tol=0.0001, verbose=0,\n",
       "                   warm_start=False)"
      ]
     },
     "execution_count": 18,
     "metadata": {},
     "output_type": "execute_result"
    }
   ],
   "source": [
    "# Train the model!\n",
    "clf = LogisticRegression(max_iter=10e10, random_state=42)\n",
    "clf.fit(train_features, train_labels)"
   ]
  },
  {
   "cell_type": "code",
   "execution_count": 19,
   "metadata": {},
   "outputs": [
    {
     "name": "stdout",
     "output_type": "stream",
     "text": [
      "Training data score: 0.9546228165589609\n",
      "Testing data score: 0.9559284583918067\n"
     ]
    }
   ],
   "source": [
    "# How well did we do?\n",
    "print('Training data score: ' + str(clf.score(train_features, train_labels)))\n",
    "print('Testing data score: ' + str(clf.score(test_features, test_labels)))"
   ]
  },
  {
   "cell_type": "code",
   "execution_count": null,
   "metadata": {},
   "outputs": [],
   "source": []
  }
 ],
 "metadata": {
  "kernelspec": {
   "display_name": "Python 3",
   "language": "python",
   "name": "python3"
  },
  "language_info": {
   "codemirror_mode": {
    "name": "ipython",
    "version": 3
   },
   "file_extension": ".py",
   "mimetype": "text/x-python",
   "name": "python",
   "nbconvert_exporter": "python",
   "pygments_lexer": "ipython3",
   "version": "3.7.6"
  }
 },
 "nbformat": 4,
 "nbformat_minor": 4
}
